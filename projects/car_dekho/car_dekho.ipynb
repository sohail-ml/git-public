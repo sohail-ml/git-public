{
 "cells": [
  {
   "cell_type": "markdown",
   "metadata": {
    "id": "6r-YGx3KtRSr"
   },
   "source": [
    "# cardekho.com "
   ]
  },
  {
   "cell_type": "markdown",
   "metadata": {
    "id": "OtkQbtzdY1Vi"
   },
   "source": [
    "## SETUP"
   ]
  },
  {
   "cell_type": "code",
   "execution_count": 8,
   "metadata": {
    "id": "ydJr6bQPpBou"
   },
   "outputs": [],
   "source": [
    "#Import standard libraries\n",
    "import os\n",
    "import numpy as np\n",
    "import pandas as pd\n",
    "import seaborn as sns\n",
    "import matplotlib.pyplot as plt\n",
    "%matplotlib inline\n",
    "\n",
    "from sklearn.preprocessing import OneHotEncoder, LabelEncoder\n",
    "from sklearn.preprocessing import StandardScaler, PolynomialFeatures, MinMaxScaler, MaxAbsScaler,RobustScaler\n",
    "from sklearn.model_selection import KFold, cross_val_predict\n",
    "from sklearn.linear_model import LinearRegression, Lasso, Ridge\n",
    "from sklearn.metrics import r2_score\n",
    "from sklearn.pipeline import Pipeline\n",
    "from scipy.stats import boxcox\n",
    "from scipy.stats.mstats import normaltest\n",
    "pd.set_option(\"display.max_rows\",None)\n",
    "\n",
    "from google.cloud import bigquery"
   ]
  },
  {
   "cell_type": "markdown",
   "metadata": {
    "id": "J14GMEjoLPsv"
   },
   "source": [
    "# READ DATA"
   ]
  },
  {
   "cell_type": "markdown",
   "metadata": {
    "id": "H8NtAwZFX_jr"
   },
   "source": [
    "###Authenticate bigquery"
   ]
  },
  {
   "cell_type": "code",
   "execution_count": 4,
   "metadata": {
    "id": "sIXDUgm7YHfC"
   },
   "outputs": [
    {
     "name": "stdout",
     "output_type": "stream",
     "text": [
      "Collecting google-cloud-bigquery==1.25.0\n",
      "  Downloading google_cloud_bigquery-1.25.0-py2.py3-none-any.whl (169 kB)\n",
      "\u001b[K     |████████████████████████████████| 169 kB 7.3 MB/s eta 0:00:01\n",
      "\u001b[?25hRequirement already satisfied: protobuf>=3.6.0 in /opt/conda/lib/python3.7/site-packages (from google-cloud-bigquery==1.25.0) (3.16.0)\n",
      "Collecting google-resumable-media<0.6dev,>=0.5.0\n",
      "  Downloading google_resumable_media-0.5.1-py2.py3-none-any.whl (38 kB)\n",
      "Requirement already satisfied: google-auth<2.0dev,>=1.9.0 in /opt/conda/lib/python3.7/site-packages (from google-cloud-bigquery==1.25.0) (1.35.0)\n",
      "Requirement already satisfied: six<2.0.0dev,>=1.13.0 in /opt/conda/lib/python3.7/site-packages (from google-cloud-bigquery==1.25.0) (1.16.0)\n",
      "Collecting google-cloud-core<2.0dev,>=1.1.0\n",
      "  Downloading google_cloud_core-1.7.2-py2.py3-none-any.whl (28 kB)\n",
      "Requirement already satisfied: google-api-core<2.0dev,>=1.15.0 in /opt/conda/lib/python3.7/site-packages (from google-cloud-bigquery==1.25.0) (1.31.2)\n",
      "Requirement already satisfied: pytz in /opt/conda/lib/python3.7/site-packages (from google-api-core<2.0dev,>=1.15.0->google-cloud-bigquery==1.25.0) (2021.1)\n",
      "Requirement already satisfied: googleapis-common-protos<2.0dev,>=1.6.0 in /opt/conda/lib/python3.7/site-packages (from google-api-core<2.0dev,>=1.15.0->google-cloud-bigquery==1.25.0) (1.53.0)\n",
      "Requirement already satisfied: setuptools>=40.3.0 in /opt/conda/lib/python3.7/site-packages (from google-api-core<2.0dev,>=1.15.0->google-cloud-bigquery==1.25.0) (57.4.0)\n",
      "Requirement already satisfied: packaging>=14.3 in /opt/conda/lib/python3.7/site-packages (from google-api-core<2.0dev,>=1.15.0->google-cloud-bigquery==1.25.0) (21.0)\n",
      "Requirement already satisfied: requests<3.0.0dev,>=2.18.0 in /opt/conda/lib/python3.7/site-packages (from google-api-core<2.0dev,>=1.15.0->google-cloud-bigquery==1.25.0) (2.25.1)\n",
      "Requirement already satisfied: cachetools<5.0,>=2.0.0 in /opt/conda/lib/python3.7/site-packages (from google-auth<2.0dev,>=1.9.0->google-cloud-bigquery==1.25.0) (4.2.2)\n",
      "Requirement already satisfied: pyasn1-modules>=0.2.1 in /opt/conda/lib/python3.7/site-packages (from google-auth<2.0dev,>=1.9.0->google-cloud-bigquery==1.25.0) (0.2.7)\n",
      "Requirement already satisfied: rsa<5,>=3.1.4 in /opt/conda/lib/python3.7/site-packages (from google-auth<2.0dev,>=1.9.0->google-cloud-bigquery==1.25.0) (4.7.2)\n",
      "Requirement already satisfied: pyparsing>=2.0.2 in /opt/conda/lib/python3.7/site-packages (from packaging>=14.3->google-api-core<2.0dev,>=1.15.0->google-cloud-bigquery==1.25.0) (2.4.7)\n",
      "Requirement already satisfied: pyasn1<0.5.0,>=0.4.6 in /opt/conda/lib/python3.7/site-packages (from pyasn1-modules>=0.2.1->google-auth<2.0dev,>=1.9.0->google-cloud-bigquery==1.25.0) (0.4.8)\n",
      "Requirement already satisfied: chardet<5,>=3.0.2 in /opt/conda/lib/python3.7/site-packages (from requests<3.0.0dev,>=2.18.0->google-api-core<2.0dev,>=1.15.0->google-cloud-bigquery==1.25.0) (4.0.0)\n",
      "Requirement already satisfied: certifi>=2017.4.17 in /opt/conda/lib/python3.7/site-packages (from requests<3.0.0dev,>=2.18.0->google-api-core<2.0dev,>=1.15.0->google-cloud-bigquery==1.25.0) (2021.5.30)\n",
      "Requirement already satisfied: urllib3<1.27,>=1.21.1 in /opt/conda/lib/python3.7/site-packages (from requests<3.0.0dev,>=2.18.0->google-api-core<2.0dev,>=1.15.0->google-cloud-bigquery==1.25.0) (1.26.6)\n",
      "Requirement already satisfied: idna<3,>=2.5 in /opt/conda/lib/python3.7/site-packages (from requests<3.0.0dev,>=2.18.0->google-api-core<2.0dev,>=1.15.0->google-cloud-bigquery==1.25.0) (2.10)\n",
      "Installing collected packages: google-resumable-media, google-cloud-core, google-cloud-bigquery\n",
      "\u001b[31mERROR: pip's dependency resolver does not currently take into account all the packages that are installed. This behaviour is the source of the following dependency conflicts.\n",
      "google-cloud-storage 1.42.0 requires google-resumable-media<3.0dev,>=1.3.0; python_version >= \"3.6\", but you have google-resumable-media 0.5.1 which is incompatible.\u001b[0m\n",
      "Successfully installed google-cloud-bigquery-1.25.0 google-cloud-core-1.7.2 google-resumable-media-0.5.1\n"
     ]
    }
   ],
   "source": [
    "# Install the Google Cloud BigQuery library\n",
    "!pip install --user google-cloud-bigquery==1.25.0"
   ]
  },
  {
   "cell_type": "markdown",
   "metadata": {
    "id": "j2-0n98JY_vT"
   },
   "source": [
    "### Pull the dataframe from bigquery"
   ]
  },
  {
   "cell_type": "code",
   "execution_count": 36,
   "metadata": {
    "id": "uYl-No1yTlfi"
   },
   "outputs": [
    {
     "name": "stderr",
     "output_type": "stream",
     "text": [
      "Query complete after 0.00s: 100%|██████████| 1/1 [00:00<00:00, 365.48query/s]                          \n",
      "Downloading: 100%|██████████| 4340/4340 [00:01<00:00, 4316.18rows/s]\n"
     ]
    }
   ],
   "source": [
    "%%bigquery df\n",
    "# SQL query to get a fields from dataset which prints the 10 records\n",
    "SELECT \n",
    "    *\n",
    "# TODO 3\n",
    "FROM\n",
    "    `linear_regression.car_dekho`\n",
    "\n"
   ]
  },
  {
   "cell_type": "markdown",
   "metadata": {
    "id": "lE3znEfL_Wcs"
   },
   "source": [
    "# EXPLORE AND CLEAN DATA\n"
   ]
  },
  {
   "cell_type": "code",
   "execution_count": 38,
   "metadata": {
    "colab": {
     "base_uri": "https://localhost:8080/",
     "height": 298
    },
    "executionInfo": {
     "elapsed": 381,
     "status": "ok",
     "timestamp": 1631588312149,
     "user": {
      "displayName": "SOHAIL AJAZ",
      "photoUrl": "https://lh3.googleusercontent.com/a/default-user=s64",
      "userId": "09832138505281235982"
     },
     "user_tz": -540
    },
    "id": "-ZnFAbAZ67hv",
    "outputId": "ecf0fea1-80a1-40bf-c5cf-c1da0f8b3f94"
   },
   "outputs": [
    {
     "data": {
      "text/plain": [
       "(4340, 8)"
      ]
     },
     "execution_count": 38,
     "metadata": {},
     "output_type": "execute_result"
    }
   ],
   "source": [
    "df.shape"
   ]
  },
  {
   "cell_type": "code",
   "execution_count": 39,
   "metadata": {
    "id": "vpnez4Z1hSB0"
   },
   "outputs": [],
   "source": [
    "# Make a copy of the original\n",
    "data = df.copy()\n",
    "\n",
    "#data = data[data.year>2015]\n",
    "# The first word in the name columns looks like the manufacturer of the car.\n",
    "# Since, we are not provided with this information in a separate column, we can\n",
    "# extract it from the \"name\" column.\n",
    "data[\"manufacturer\"] = data.name.str.split(n=1,expand=True)[0]\n",
    "data = data.drop(\"name\",axis=1)"
   ]
  },
  {
   "cell_type": "markdown",
   "metadata": {
    "id": "BCs9NqNj2QFE"
   },
   "source": [
    "### EDA"
   ]
  },
  {
   "cell_type": "code",
   "execution_count": 19,
   "metadata": {
    "colab": {
     "base_uri": "https://localhost:8080/",
     "height": 1000
    },
    "executionInfo": {
     "elapsed": 1934,
     "status": "ok",
     "timestamp": 1631588321634,
     "user": {
      "displayName": "SOHAIL AJAZ",
      "photoUrl": "https://lh3.googleusercontent.com/a/default-user=s64",
      "userId": "09832138505281235982"
     },
     "user_tz": -540
    },
    "id": "AxupCl6rm5MD",
    "outputId": "2a5f8d61-1614-4fd8-d4b5-07b38622d20c"
   },
   "outputs": [
    {
     "data": {
      "text/plain": [
       "<matplotlib.collections.PathCollection at 0x7faa54de2e10>"
      ]
     },
     "execution_count": 19,
     "metadata": {},
     "output_type": "execute_result"
    },
    {
     "data": {
      "image/png": "[encoded data removed]",
      "text/plain": [
       "<Figure size 360x1080 with 7 Axes>"
      ]
     },
     "metadata": {
      "needs_background": "light"
     },
     "output_type": "display_data"
    }
   ],
   "source": [
    "re_arrange_cols = ['year', 'km_driven', 'fuel', 'seller_type', 'transmission', 'owner', 'manufacturer', 'selling_price']\n",
    "\n",
    "data = data[re_arrange_cols]\n",
    "\n",
    "fig, (ax1, ax2,ax3,ax4,ax5,ax6,ax7) = plt.subplots(7)\n",
    "fig.suptitle('Vertically stacked subplots')\n",
    "fig.set_figheight(15)\n",
    "fig.set_figwidth(5)\n",
    "ax1.scatter(data.year, data.selling_price)\n",
    "ax2.scatter(data.km_driven, data.selling_price)\n",
    "ax3.scatter(data.fuel, data.selling_price)\n",
    "ax4.scatter(data.seller_type, data.selling_price)\n",
    "ax5.scatter(data.transmission, data.selling_price)\n",
    "ax6.scatter(data.owner, data.selling_price)\n",
    "ax7.scatter(data.manufacturer, data.selling_price)\n",
    "\n"
   ]
  },
  {
   "cell_type": "code",
   "execution_count": 20,
   "metadata": {
    "colab": {
     "base_uri": "https://localhost:8080/",
     "height": 1000
    },
    "executionInfo": {
     "elapsed": 2636,
     "status": "ok",
     "timestamp": 1631588331019,
     "user": {
      "displayName": "SOHAIL AJAZ",
      "photoUrl": "https://lh3.googleusercontent.com/a/default-user=s64",
      "userId": "09832138505281235982"
     },
     "user_tz": -540
    },
    "id": "zUOw2xjFtWpe",
    "outputId": "0d0c517f-8234-49c0-c172-ad6e6eb69f84"
   },
   "outputs": [
    {
     "data": {
      "text/plain": [
       "(array([7., 0., 0., 0., 0., 0., 0., 0., 0., 3.]),\n",
       " array([0. , 0.1, 0.2, 0.3, 0.4, 0.5, 0.6, 0.7, 0.8, 0.9, 1. ]),\n",
       " <BarContainer object of 10 artists>)"
      ]
     },
     "execution_count": 20,
     "metadata": {},
     "output_type": "execute_result"
    },
    {
     "data": {
      "image/png": "[encoded data removed]",
      "text/plain": [
       "<Figure size 720x1440 with 7 Axes>"
      ]
     },
     "metadata": {
      "needs_background": "light"
     },
     "output_type": "display_data"
    }
   ],
   "source": [
    "re_arrange_cols = ['year', 'km_driven', 'fuel', 'seller_type', 'transmission', 'owner', 'manufacturer', 'selling_price']\n",
    "\n",
    "data = data[re_arrange_cols]\n",
    "\n",
    "fig, (ax1, ax2,ax3,ax4,ax5,ax6,ax7) = plt.subplots(7)\n",
    "fig.suptitle('Vertically stacked subplots')\n",
    "fig.set_figheight(20)\n",
    "fig.set_figwidth(10)\n",
    "ax1.hist(data.year)\n",
    "ax2.hist(data.km_driven)\n",
    "ax3.hist(data.fuel)\n",
    "ax4.hist(data.seller_type)\n",
    "ax5.hist(data.transmission)\n",
    "ax6.hist(data.owner)\n",
    "ax7.hist(data.manufacturer)"
   ]
  },
  {
   "cell_type": "code",
   "execution_count": 21,
   "metadata": {
    "colab": {
     "base_uri": "https://localhost:8080/",
     "height": 143
    },
    "executionInfo": {
     "elapsed": 375,
     "status": "ok",
     "timestamp": 1631580630888,
     "user": {
      "displayName": "SOHAIL AJAZ",
      "photoUrl": "https://lh3.googleusercontent.com/a/default-user=s64",
      "userId": "09832138505281235982"
     },
     "user_tz": -540
    },
    "id": "0ExpGWvn0jBo",
    "outputId": "07ac62af-c06c-4593-a0b0-0d710067689b"
   },
   "outputs": [
    {
     "data": {
      "text/html": [
       "<div>\n",
       "<style scoped>\n",
       "    .dataframe tbody tr th:only-of-type {\n",
       "        vertical-align: middle;\n",
       "    }\n",
       "\n",
       "    .dataframe tbody tr th {\n",
       "        vertical-align: top;\n",
       "    }\n",
       "\n",
       "    .dataframe thead th {\n",
       "        text-align: right;\n",
       "    }\n",
       "</style>\n",
       "<table border=\"1\" class=\"dataframe\">\n",
       "  <thead>\n",
       "    <tr style=\"text-align: right;\">\n",
       "      <th></th>\n",
       "      <th>min</th>\n",
       "      <th>max</th>\n",
       "      <th>mean</th>\n",
       "      <th>q25</th>\n",
       "      <th>median</th>\n",
       "      <th>q75</th>\n",
       "      <th>range</th>\n",
       "      <th>iqr</th>\n",
       "    </tr>\n",
       "  </thead>\n",
       "  <tbody>\n",
       "    <tr>\n",
       "      <th>year</th>\n",
       "      <td>1992.0</td>\n",
       "      <td>1998.0</td>\n",
       "      <td>1996.4</td>\n",
       "      <td>1996.0</td>\n",
       "      <td>1997.0</td>\n",
       "      <td>1997.75</td>\n",
       "      <td>6.0</td>\n",
       "      <td>1.75</td>\n",
       "    </tr>\n",
       "    <tr>\n",
       "      <th>km_driven</th>\n",
       "      <td>35000.0</td>\n",
       "      <td>120000.0</td>\n",
       "      <td>74500.0</td>\n",
       "      <td>62500.0</td>\n",
       "      <td>70000.0</td>\n",
       "      <td>95000.00</td>\n",
       "      <td>85000.0</td>\n",
       "      <td>32500.00</td>\n",
       "    </tr>\n",
       "    <tr>\n",
       "      <th>selling_price</th>\n",
       "      <td>40000.0</td>\n",
       "      <td>250000.0</td>\n",
       "      <td>99800.0</td>\n",
       "      <td>44000.0</td>\n",
       "      <td>64500.0</td>\n",
       "      <td>136250.00</td>\n",
       "      <td>210000.0</td>\n",
       "      <td>92250.00</td>\n",
       "    </tr>\n",
       "  </tbody>\n",
       "</table>\n",
       "</div>"
      ],
      "text/plain": [
       "                   min       max     mean      q25   median        q75  \\\n",
       "year            1992.0    1998.0   1996.4   1996.0   1997.0    1997.75   \n",
       "km_driven      35000.0  120000.0  74500.0  62500.0  70000.0   95000.00   \n",
       "selling_price  40000.0  250000.0  99800.0  44000.0  64500.0  136250.00   \n",
       "\n",
       "                  range       iqr  \n",
       "year                6.0      1.75  \n",
       "km_driven       85000.0  32500.00  \n",
       "selling_price  210000.0  92250.00  "
      ]
     },
     "execution_count": 21,
     "metadata": {},
     "output_type": "execute_result"
    }
   ],
   "source": [
    "# Select just the rows desired from the 'describe' method and add in the 'median'\n",
    "#Check the min,max, mean,median,range and iqr for the numeric fields\n",
    "stats_df = data.describe()\n",
    "stats_df.loc['range'] = stats_df.loc['max'] - stats_df.loc['min']\n",
    "\n",
    "out_fields = ['min','max','mean','25%','50%','75%','range']\n",
    "stats_df = stats_df.loc[out_fields]\n",
    "\n",
    "stats_df.rename({'50%':'median','25%':'q25','75%':'q75'},inplace=True)\n",
    "\n",
    "stats_df.loc['iqr'] = stats_df.loc['q75'] - stats_df.loc['q25']\n",
    "\n",
    "stats_df.T\n",
    "\n",
    "# year: range shows that our data is spread over 28 years, staring from\n",
    "# 1992 and ending in 2020. \n",
    "# Selling price range from 20000 to 89000000\n",
    "#km driven range frmo 1 to 806599 "
   ]
  },
  {
   "cell_type": "code",
   "execution_count": null,
   "metadata": {
    "colab": {
     "base_uri": "https://localhost:8080/",
     "height": 174
    },
    "executionInfo": {
     "elapsed": 21,
     "status": "ok",
     "timestamp": 1631579511945,
     "user": {
      "displayName": "SOHAIL AJAZ",
      "photoUrl": "https://lh3.googleusercontent.com/a/default-user=s64",
      "userId": "09832138505281235982"
     },
     "user_tz": -540
    },
    "id": "Pz2Smq1i9DkP",
    "outputId": "ac067402-30ac-4f13-de04-517622a8b00e"
   },
   "outputs": [
    {
     "data": {
      "text/html": [
       "<div>\n",
       "<style scoped>\n",
       "    .dataframe tbody tr th:only-of-type {\n",
       "        vertical-align: middle;\n",
       "    }\n",
       "\n",
       "    .dataframe tbody tr th {\n",
       "        vertical-align: top;\n",
       "    }\n",
       "\n",
       "    .dataframe thead tr th {\n",
       "        text-align: left;\n",
       "    }\n",
       "\n",
       "    .dataframe thead tr:last-of-type th {\n",
       "        text-align: right;\n",
       "    }\n",
       "</style>\n",
       "<table border=\"1\" class=\"dataframe\">\n",
       "  <thead>\n",
       "    <tr>\n",
       "      <th></th>\n",
       "      <th colspan=\"2\" halign=\"left\">year</th>\n",
       "      <th colspan=\"2\" halign=\"left\">km_driven</th>\n",
       "      <th colspan=\"2\" halign=\"left\">selling_price</th>\n",
       "    </tr>\n",
       "    <tr>\n",
       "      <th></th>\n",
       "      <th>mean</th>\n",
       "      <th>median</th>\n",
       "      <th>mean</th>\n",
       "      <th>median</th>\n",
       "      <th>mean</th>\n",
       "      <th>median</th>\n",
       "    </tr>\n",
       "    <tr>\n",
       "      <th>transmission</th>\n",
       "      <th></th>\n",
       "      <th></th>\n",
       "      <th></th>\n",
       "      <th></th>\n",
       "      <th></th>\n",
       "      <th></th>\n",
       "    </tr>\n",
       "  </thead>\n",
       "  <tbody>\n",
       "    <tr>\n",
       "      <th>Automatic</th>\n",
       "      <td>2015.895939</td>\n",
       "      <td>2017</td>\n",
       "      <td>44462.824873</td>\n",
       "      <td>38500</td>\n",
       "      <td>1.526170e+06</td>\n",
       "      <td>1100000</td>\n",
       "    </tr>\n",
       "    <tr>\n",
       "      <th>Manual</th>\n",
       "      <td>2014.857143</td>\n",
       "      <td>2015</td>\n",
       "      <td>60548.743961</td>\n",
       "      <td>52600</td>\n",
       "      <td>4.792861e+05</td>\n",
       "      <td>425000</td>\n",
       "    </tr>\n",
       "  </tbody>\n",
       "</table>\n",
       "</div>"
      ],
      "text/plain": [
       "                     year            km_driven        selling_price         \n",
       "                     mean median          mean median          mean   median\n",
       "transmission                                                                \n",
       "Automatic     2015.895939   2017  44462.824873  38500  1.526170e+06  1100000\n",
       "Manual        2014.857143   2015  60548.743961  52600  4.792861e+05   425000"
      ]
     },
     "execution_count": 74,
     "metadata": {},
     "output_type": "execute_result"
    }
   ],
   "source": [
    "#applying multiple functions at once - 2 methods\n",
    "data.groupby('transmission').agg(['mean','median'])\n",
    "#Shows Automatic cars sells for more and also newer\n"
   ]
  },
  {
   "cell_type": "code",
   "execution_count": null,
   "metadata": {
    "colab": {
     "base_uri": "https://localhost:8080/",
     "height": 921
    },
    "executionInfo": {
     "elapsed": 20,
     "status": "ok",
     "timestamp": 1631579511945,
     "user": {
      "displayName": "SOHAIL AJAZ",
      "photoUrl": "https://lh3.googleusercontent.com/a/default-user=s64",
      "userId": "09832138505281235982"
     },
     "user_tz": -540
    },
    "id": "nErllaJEniZc",
    "outputId": "c0bb24d7-5eb0-4765-822a-f61abadc6985"
   },
   "outputs": [
    {
     "data": {
      "text/html": [
       "<div>\n",
       "<style scoped>\n",
       "    .dataframe tbody tr th:only-of-type {\n",
       "        vertical-align: middle;\n",
       "    }\n",
       "\n",
       "    .dataframe tbody tr th {\n",
       "        vertical-align: top;\n",
       "    }\n",
       "\n",
       "    .dataframe thead th {\n",
       "        text-align: right;\n",
       "    }\n",
       "</style>\n",
       "<table border=\"1\" class=\"dataframe\">\n",
       "  <thead>\n",
       "    <tr style=\"text-align: right;\">\n",
       "      <th></th>\n",
       "      <th>year</th>\n",
       "      <th>km_driven</th>\n",
       "      <th>selling_price</th>\n",
       "    </tr>\n",
       "    <tr>\n",
       "      <th>manufacturer</th>\n",
       "      <th></th>\n",
       "      <th></th>\n",
       "      <th></th>\n",
       "    </tr>\n",
       "  </thead>\n",
       "  <tbody>\n",
       "    <tr>\n",
       "      <th>Ambassador</th>\n",
       "      <td>2012.000000</td>\n",
       "      <td>50000.000000</td>\n",
       "      <td>4.300000e+05</td>\n",
       "    </tr>\n",
       "    <tr>\n",
       "      <th>Audi</th>\n",
       "      <td>2014.018182</td>\n",
       "      <td>63937.872727</td>\n",
       "      <td>2.014509e+06</td>\n",
       "    </tr>\n",
       "    <tr>\n",
       "      <th>BMW</th>\n",
       "      <td>2016.314286</td>\n",
       "      <td>43869.828571</td>\n",
       "      <td>3.174000e+06</td>\n",
       "    </tr>\n",
       "    <tr>\n",
       "      <th>Chevrolet</th>\n",
       "      <td>2013.198582</td>\n",
       "      <td>67986.418440</td>\n",
       "      <td>2.622482e+05</td>\n",
       "    </tr>\n",
       "    <tr>\n",
       "      <th>Datsun</th>\n",
       "      <td>2016.513514</td>\n",
       "      <td>29564.351351</td>\n",
       "      <td>2.970269e+05</td>\n",
       "    </tr>\n",
       "    <tr>\n",
       "      <th>Fiat</th>\n",
       "      <td>2014.090909</td>\n",
       "      <td>74792.636364</td>\n",
       "      <td>3.670909e+05</td>\n",
       "    </tr>\n",
       "    <tr>\n",
       "      <th>Force</th>\n",
       "      <td>2014.000000</td>\n",
       "      <td>37516.000000</td>\n",
       "      <td>3.460000e+05</td>\n",
       "    </tr>\n",
       "    <tr>\n",
       "      <th>Ford</th>\n",
       "      <td>2015.307692</td>\n",
       "      <td>58595.671795</td>\n",
       "      <td>6.581538e+05</td>\n",
       "    </tr>\n",
       "    <tr>\n",
       "      <th>Honda</th>\n",
       "      <td>2015.527094</td>\n",
       "      <td>50184.349754</td>\n",
       "      <td>6.113300e+05</td>\n",
       "    </tr>\n",
       "    <tr>\n",
       "      <th>Hyundai</th>\n",
       "      <td>2015.271704</td>\n",
       "      <td>47738.172026</td>\n",
       "      <td>5.058617e+05</td>\n",
       "    </tr>\n",
       "    <tr>\n",
       "      <th>Isuzu</th>\n",
       "      <td>2018.000000</td>\n",
       "      <td>40000.000000</td>\n",
       "      <td>1.500000e+06</td>\n",
       "    </tr>\n",
       "    <tr>\n",
       "      <th>Jaguar</th>\n",
       "      <td>2012.600000</td>\n",
       "      <td>54945.200000</td>\n",
       "      <td>1.973000e+06</td>\n",
       "    </tr>\n",
       "    <tr>\n",
       "      <th>Jeep</th>\n",
       "      <td>2018.000000</td>\n",
       "      <td>27346.000000</td>\n",
       "      <td>1.530000e+06</td>\n",
       "    </tr>\n",
       "    <tr>\n",
       "      <th>Kia</th>\n",
       "      <td>2019.000000</td>\n",
       "      <td>10000.000000</td>\n",
       "      <td>1.300000e+06</td>\n",
       "    </tr>\n",
       "    <tr>\n",
       "      <th>Land</th>\n",
       "      <td>2016.000000</td>\n",
       "      <td>84500.000000</td>\n",
       "      <td>3.462250e+06</td>\n",
       "    </tr>\n",
       "    <tr>\n",
       "      <th>MG</th>\n",
       "      <td>2019.000000</td>\n",
       "      <td>16000.000000</td>\n",
       "      <td>1.842500e+06</td>\n",
       "    </tr>\n",
       "    <tr>\n",
       "      <th>Mahindra</th>\n",
       "      <td>2015.096886</td>\n",
       "      <td>73005.747405</td>\n",
       "      <td>6.742318e+05</td>\n",
       "    </tr>\n",
       "    <tr>\n",
       "      <th>Maruti</th>\n",
       "      <td>2015.337931</td>\n",
       "      <td>55281.829885</td>\n",
       "      <td>4.422094e+05</td>\n",
       "    </tr>\n",
       "    <tr>\n",
       "      <th>Mercedes-Benz</th>\n",
       "      <td>2015.500000</td>\n",
       "      <td>33462.500000</td>\n",
       "      <td>3.271036e+06</td>\n",
       "    </tr>\n",
       "    <tr>\n",
       "      <th>Mitsubishi</th>\n",
       "      <td>2011.600000</td>\n",
       "      <td>133574.000000</td>\n",
       "      <td>8.580000e+05</td>\n",
       "    </tr>\n",
       "    <tr>\n",
       "      <th>Nissan</th>\n",
       "      <td>2014.031746</td>\n",
       "      <td>68028.714286</td>\n",
       "      <td>4.475555e+05</td>\n",
       "    </tr>\n",
       "    <tr>\n",
       "      <th>Renault</th>\n",
       "      <td>2015.410959</td>\n",
       "      <td>47421.287671</td>\n",
       "      <td>4.193767e+05</td>\n",
       "    </tr>\n",
       "    <tr>\n",
       "      <th>Skoda</th>\n",
       "      <td>2013.420000</td>\n",
       "      <td>71864.300000</td>\n",
       "      <td>5.661200e+05</td>\n",
       "    </tr>\n",
       "    <tr>\n",
       "      <th>Tata</th>\n",
       "      <td>2014.201613</td>\n",
       "      <td>65389.088710</td>\n",
       "      <td>3.536774e+05</td>\n",
       "    </tr>\n",
       "    <tr>\n",
       "      <th>Toyota</th>\n",
       "      <td>2014.390244</td>\n",
       "      <td>87151.390244</td>\n",
       "      <td>1.046726e+06</td>\n",
       "    </tr>\n",
       "    <tr>\n",
       "      <th>Volkswagen</th>\n",
       "      <td>2013.711340</td>\n",
       "      <td>71986.195876</td>\n",
       "      <td>4.836598e+05</td>\n",
       "    </tr>\n",
       "    <tr>\n",
       "      <th>Volvo</th>\n",
       "      <td>2015.250000</td>\n",
       "      <td>86748.000000</td>\n",
       "      <td>2.556250e+06</td>\n",
       "    </tr>\n",
       "  </tbody>\n",
       "</table>\n",
       "</div>"
      ],
      "text/plain": [
       "                      year      km_driven  selling_price\n",
       "manufacturer                                            \n",
       "Ambassador     2012.000000   50000.000000   4.300000e+05\n",
       "Audi           2014.018182   63937.872727   2.014509e+06\n",
       "BMW            2016.314286   43869.828571   3.174000e+06\n",
       "Chevrolet      2013.198582   67986.418440   2.622482e+05\n",
       "Datsun         2016.513514   29564.351351   2.970269e+05\n",
       "Fiat           2014.090909   74792.636364   3.670909e+05\n",
       "Force          2014.000000   37516.000000   3.460000e+05\n",
       "Ford           2015.307692   58595.671795   6.581538e+05\n",
       "Honda          2015.527094   50184.349754   6.113300e+05\n",
       "Hyundai        2015.271704   47738.172026   5.058617e+05\n",
       "Isuzu          2018.000000   40000.000000   1.500000e+06\n",
       "Jaguar         2012.600000   54945.200000   1.973000e+06\n",
       "Jeep           2018.000000   27346.000000   1.530000e+06\n",
       "Kia            2019.000000   10000.000000   1.300000e+06\n",
       "Land           2016.000000   84500.000000   3.462250e+06\n",
       "MG             2019.000000   16000.000000   1.842500e+06\n",
       "Mahindra       2015.096886   73005.747405   6.742318e+05\n",
       "Maruti         2015.337931   55281.829885   4.422094e+05\n",
       "Mercedes-Benz  2015.500000   33462.500000   3.271036e+06\n",
       "Mitsubishi     2011.600000  133574.000000   8.580000e+05\n",
       "Nissan         2014.031746   68028.714286   4.475555e+05\n",
       "Renault        2015.410959   47421.287671   4.193767e+05\n",
       "Skoda          2013.420000   71864.300000   5.661200e+05\n",
       "Tata           2014.201613   65389.088710   3.536774e+05\n",
       "Toyota         2014.390244   87151.390244   1.046726e+06\n",
       "Volkswagen     2013.711340   71986.195876   4.836598e+05\n",
       "Volvo          2015.250000   86748.000000   2.556250e+06"
      ]
     },
     "execution_count": 75,
     "metadata": {},
     "output_type": "execute_result"
    }
   ],
   "source": [
    "data.groupby('manufacturer').agg('mean','median')"
   ]
  },
  {
   "cell_type": "markdown",
   "metadata": {
    "id": "h2ex5zFJLqk2"
   },
   "source": [
    "# FEATURE ENGINEERING"
   ]
  },
  {
   "cell_type": "markdown",
   "metadata": {
    "id": "FGP5dV3a1YRd"
   },
   "source": []
  },
  {
   "cell_type": "markdown",
   "metadata": {
    "id": "-NEFtvEr1YT5"
   },
   "source": [
    "###Explore Target"
   ]
  },
  {
   "cell_type": "code",
   "execution_count": null,
   "metadata": {
    "colab": {
     "base_uri": "https://localhost:8080/",
     "height": 320
    },
    "executionInfo": {
     "elapsed": 476,
     "status": "ok",
     "timestamp": 1631585380138,
     "user": {
      "displayName": "SOHAIL AJAZ",
      "photoUrl": "https://lh3.googleusercontent.com/a/default-user=s64",
      "userId": "09832138505281235982"
     },
     "user_tz": -540
    },
    "id": "DB5_L3VR1osU",
    "outputId": "3ba06fdc-b1a2-4833-e76d-5ec2c32be73a"
   },
   "outputs": [
    {
     "data": {
      "text/plain": [
       "<matplotlib.axes._subplots.AxesSubplot at 0x7fbbf87bb110>"
      ]
     },
     "execution_count": 309,
     "metadata": {},
     "output_type": "execute_result"
    },
    {
     "data": {
      "image/png": "[encoded data removed]",
      "text/plain": [
       "<Figure size 432x288 with 1 Axes>"
      ]
     },
     "metadata": {},
     "output_type": "display_data"
    }
   ],
   "source": [
    "sns.kdeplot(np.log(df.selling_price))"
   ]
  },
  {
   "cell_type": "code",
   "execution_count": 22,
   "metadata": {
    "colab": {
     "base_uri": "https://localhost:8080/"
    },
    "executionInfo": {
     "elapsed": 409,
     "status": "ok",
     "timestamp": 1631581563948,
     "user": {
      "displayName": "SOHAIL AJAZ",
      "photoUrl": "https://lh3.googleusercontent.com/a/default-user=s64",
      "userId": "09832138505281235982"
     },
     "user_tz": -540
    },
    "id": "0NC5nULr1tuZ",
    "outputId": "89c37272-0e76-499a-89b4-238c42582292"
   },
   "outputs": [
    {
     "name": "stderr",
     "output_type": "stream",
     "text": [
      "/opt/conda/lib/python3.7/site-packages/scipy/stats/mstats_basic.py:2599: UserWarning: kurtosistest only valid for n>=20 ... continuing anyway, n=10\n",
      "  np.min(n))\n"
     ]
    },
    {
     "data": {
      "text/plain": [
       "NormaltestResult(statistic=1.9828132735653923, pvalue=0.3710543850144034)"
      ]
     },
     "execution_count": 22,
     "metadata": {},
     "output_type": "execute_result"
    }
   ],
   "source": [
    "normaltest(np.log(df.selling_price))"
   ]
  },
  {
   "cell_type": "code",
   "execution_count": 23,
   "metadata": {
    "id": "Vf7GPrBp1yf3"
   },
   "outputs": [
    {
     "data": {
      "text/plain": [
       "<AxesSubplot:ylabel='Density'>"
      ]
     },
     "execution_count": 23,
     "metadata": {},
     "output_type": "execute_result"
    },
    {
     "data": {
      "image/png": "[encoded data removed]",
      "text/plain": [
       "<Figure size 432x288 with 1 Axes>"
      ]
     },
     "metadata": {
      "needs_background": "light"
     },
     "output_type": "display_data"
    }
   ],
   "source": [
    "#test boxcox\n",
    "target_boxcox = boxcox(df.selling_price)\n",
    "sns.kdeplot(target_boxcox[0])"
   ]
  },
  {
   "cell_type": "markdown",
   "metadata": {
    "id": "bhPf4baA13bv"
   },
   "source": [
    "###Set up prediction"
   ]
  },
  {
   "cell_type": "code",
   "execution_count": 40,
   "metadata": {
    "colab": {
     "base_uri": "https://localhost:8080/"
    },
    "executionInfo": {
     "elapsed": 407,
     "status": "ok",
     "timestamp": 1631589367385,
     "user": {
      "displayName": "SOHAIL AJAZ",
      "photoUrl": "https://lh3.googleusercontent.com/a/default-user=s64",
      "userId": "09832138505281235982"
     },
     "user_tz": -540
    },
    "id": "eRls283c4sz6",
    "outputId": "b8128e5e-0410-4da0-db2d-070034e9584f"
   },
   "outputs": [
    {
     "name": "stderr",
     "output_type": "stream",
     "text": [
      "/opt/conda/lib/python3.7/site-packages/pandas/core/generic.py:5516: SettingWithCopyWarning: \n",
      "A value is trying to be set on a copy of a slice from a DataFrame.\n",
      "Try using .loc[row_indexer,col_indexer] = value instead\n",
      "\n",
      "See the caveats in the documentation: https://pandas.pydata.org/pandas-docs/stable/user_guide/indexing.html#returning-a-view-versus-a-copy\n",
      "  self[name] = value\n"
     ]
    }
   ],
   "source": [
    "#Create subset of data for prediction\n",
    "all_cols = ['year', 'selling_price', 'km_driven', 'fuel', 'seller_type', 'transmission', 'owner', 'manufacturer']\n",
    "sub_cols = [ 'year','km_driven','manufacturer','transmission','fuel','seller_type', 'selling_price']\n",
    "small_data = data[sub_cols]\n",
    "small_data.selling_price = boxcox(small_data.selling_price)[0]\n"
   ]
  },
  {
   "cell_type": "code",
   "execution_count": 41,
   "metadata": {
    "colab": {
     "base_uri": "https://localhost:8080/"
    },
    "executionInfo": {
     "elapsed": 4,
     "status": "ok",
     "timestamp": 1631589370491,
     "user": {
      "displayName": "SOHAIL AJAZ",
      "photoUrl": "https://lh3.googleusercontent.com/a/default-user=s64",
      "userId": "09832138505281235982"
     },
     "user_tz": -540
    },
    "id": "yDEwVDtTuFiT",
    "outputId": "b840008c-a277-4b9e-8e74-91702f5884b5"
   },
   "outputs": [
    {
     "name": "stdout",
     "output_type": "stream",
     "text": [
      "Index(['manufacturer', 'transmission', 'fuel', 'seller_type'], dtype='object')\n",
      "manufacturer\n",
      "fuel\n",
      "seller_type\n",
      "transmission\n"
     ]
    }
   ],
   "source": [
    "# Do the one hot encoding\n",
    "# Lets find the colms which need one hot encoding\n",
    "ohc_cols = small_data.columns[small_data.dtypes == \"object\"]\n",
    "print(ohc_cols)\n",
    "# Determine how many extra columns would be created\n",
    "num_ohc_cols = (small_data[ohc_cols]\n",
    "                .apply(lambda x: x.nunique())\n",
    "                .sort_values(ascending=False))\n",
    "# Copy of the data\n",
    "data_ohc = small_data.copy()\n",
    "\n",
    "# The encoders\n",
    "le = LabelEncoder()\n",
    "ohc = OneHotEncoder()\n",
    "\n",
    "for col in num_ohc_cols.index:\n",
    "    print(col)\n",
    "    # Integer encode the string categories\n",
    "    dat = le.fit_transform(data_ohc[col]).astype(np.int)\n",
    "    \n",
    "    # Remove the original column from the dataframe\n",
    "    data_ohc = data_ohc.drop(col, axis=1)\n",
    "\n",
    "    # One hot encode the data--this returns a sparse array\n",
    "    new_dat = ohc.fit_transform(dat.reshape(-1,1))\n",
    "\n",
    "    # Create unique column names\n",
    "    n_cols = new_dat.shape[1]\n",
    "    col_names = ['_'.join([col, str(x)]) for x in range(n_cols)]\n",
    "\n",
    "    # Create the new dataframe\n",
    "    new_df = pd.DataFrame(new_dat.toarray(), \n",
    "                          index=data_ohc.index, \n",
    "                          columns=col_names)\n",
    "\n",
    "    # Append the new data to the dataframe\n",
    "    data_ohc = pd.concat([data_ohc, new_df], axis=1)\n"
   ]
  },
  {
   "cell_type": "markdown",
   "metadata": {
    "id": "ysZu5ECCLvX-"
   },
   "source": [
    "# FIT AND PREDICT"
   ]
  },
  {
   "cell_type": "markdown",
   "metadata": {
    "id": "nYfgZHYdhErB"
   },
   "source": [
    "###Split the data with KFold"
   ]
  },
  {
   "cell_type": "code",
   "execution_count": 42,
   "metadata": {
    "id": "yx-b08W5L6uu"
   },
   "outputs": [],
   "source": [
    "X = data_ohc.drop('selling_price', axis = 1)\n",
    "y = data_ohc.selling_price\n"
   ]
  },
  {
   "cell_type": "code",
   "execution_count": 43,
   "metadata": {
    "id": "_PbVeTF1feUP"
   },
   "outputs": [],
   "source": [
    "kf = KFold(shuffle=True, random_state=72018,n_splits=3)"
   ]
  },
  {
   "cell_type": "code",
   "execution_count": 44,
   "metadata": {
    "colab": {
     "base_uri": "https://localhost:8080/"
    },
    "executionInfo": {
     "elapsed": 4,
     "status": "ok",
     "timestamp": 1631589381745,
     "user": {
      "displayName": "SOHAIL AJAZ",
      "photoUrl": "https://lh3.googleusercontent.com/a/default-user=s64",
      "userId": "09832138505281235982"
     },
     "user_tz": -540
    },
    "id": "f1Srdfx0fy2v",
    "outputId": "fc73dc47-e443-49a3-f58a-d397ddbe7edd"
   },
   "outputs": [
    {
     "name": "stdout",
     "output_type": "stream",
     "text": [
      "Train index: [ 0  2  3  4  5  7  8  9 10 11] 2893\n",
      "Test index: [ 1  6 14 15 17 18 20 22 26 30] 1447\n",
      "\n",
      "Train index: [ 0  1  2  4  6  7  8 10 11 12] 2893\n",
      "Test index: [ 3  5  9 16 19 21 23 24 27 31] 1447\n",
      "\n",
      "Train index: [ 1  3  5  6  9 14 15 16 17 18] 2894\n",
      "Test index: [ 0  2  4  7  8 10 11 12 13 25] 1446\n",
      "\n"
     ]
    }
   ],
   "source": [
    "for train_index,test_index in kf.split(X):\n",
    "  print(\"Train index:\",train_index[:10],len(train_index))\n",
    "  print(\"Test index:\", test_index[:10],len(test_index))\n",
    "  print('')"
   ]
  },
  {
   "cell_type": "markdown",
   "metadata": {
    "id": "4TeWO4-nhSyB"
   },
   "source": [
    "###Define pipeline"
   ]
  },
  {
   "cell_type": "code",
   "execution_count": 45,
   "metadata": {
    "id": "P-xBrVqXg99h"
   },
   "outputs": [],
   "source": [
    "s = StandardScaler()\n",
    "r = RobustScaler()\n",
    "lr = LinearRegression()\n",
    "mi = MinMaxScaler()\n",
    "max = MaxAbsScaler()\n",
    "\n",
    "#estimator = Pipeline([(\"scaler\",max), (\"regression\",lr)])\n",
    "estimator = Pipeline([(\"regression\",lr)])"
   ]
  },
  {
   "cell_type": "markdown",
   "metadata": {
    "id": "iOncw4WoirkB"
   },
   "source": [
    "###Get predictions"
   ]
  },
  {
   "cell_type": "code",
   "execution_count": 46,
   "metadata": {
    "id": "EMhdGkQGiCFJ"
   },
   "outputs": [],
   "source": [
    "predictions = cross_val_predict(estimator,X,y, cv=kf)"
   ]
  },
  {
   "cell_type": "code",
   "execution_count": 48,
   "metadata": {
    "colab": {
     "base_uri": "https://localhost:8080/",
     "height": 205
    },
    "executionInfo": {
     "elapsed": 399,
     "status": "ok",
     "timestamp": 1631589457608,
     "user": {
      "displayName": "SOHAIL AJAZ",
      "photoUrl": "https://lh3.googleusercontent.com/a/default-user=s64",
      "userId": "09832138505281235982"
     },
     "user_tz": -540
    },
    "id": "HdRL_RNNl24c",
    "outputId": "db23bde2-baba-4230-b18a-1a697285b658"
   },
   "outputs": [
    {
     "data": {
      "text/html": [
       "<div>\n",
       "<style scoped>\n",
       "    .dataframe tbody tr th:only-of-type {\n",
       "        vertical-align: middle;\n",
       "    }\n",
       "\n",
       "    .dataframe tbody tr th {\n",
       "        vertical-align: top;\n",
       "    }\n",
       "\n",
       "    .dataframe thead th {\n",
       "        text-align: right;\n",
       "    }\n",
       "</style>\n",
       "<table border=\"1\" class=\"dataframe\">\n",
       "  <thead>\n",
       "    <tr style=\"text-align: right;\">\n",
       "      <th></th>\n",
       "      <th>y</th>\n",
       "      <th>p</th>\n",
       "    </tr>\n",
       "  </thead>\n",
       "  <tbody>\n",
       "    <tr>\n",
       "      <th>0</th>\n",
       "      <td>9.639541</td>\n",
       "      <td>8.938211</td>\n",
       "    </tr>\n",
       "    <tr>\n",
       "      <th>1</th>\n",
       "      <td>10.143125</td>\n",
       "      <td>9.207060</td>\n",
       "    </tr>\n",
       "    <tr>\n",
       "      <th>2</th>\n",
       "      <td>10.718447</td>\n",
       "      <td>9.845965</td>\n",
       "    </tr>\n",
       "    <tr>\n",
       "      <th>3</th>\n",
       "      <td>10.889089</td>\n",
       "      <td>9.888456</td>\n",
       "    </tr>\n",
       "    <tr>\n",
       "      <th>4</th>\n",
       "      <td>9.639541</td>\n",
       "      <td>9.397384</td>\n",
       "    </tr>\n",
       "  </tbody>\n",
       "</table>\n",
       "</div>"
      ],
      "text/plain": [
       "           y         p\n",
       "0   9.639541  8.938211\n",
       "1  10.143125  9.207060\n",
       "2  10.718447  9.845965\n",
       "3  10.889089  9.888456\n",
       "4   9.639541  9.397384"
      ]
     },
     "execution_count": 48,
     "metadata": {},
     "output_type": "execute_result"
    }
   ],
   "source": [
    "y_series = pd.Series(y)\n",
    "p_series = pd.Series(predictions)\n",
    "frame = { 'y': y, 'p': predictions }\n",
    "\n",
    "pd.DataFrame(frame).head(5)\n",
    "\n"
   ]
  },
  {
   "cell_type": "code",
   "execution_count": 49,
   "metadata": {
    "colab": {
     "base_uri": "https://localhost:8080/"
    },
    "executionInfo": {
     "elapsed": 409,
     "status": "ok",
     "timestamp": 1631589461492,
     "user": {
      "displayName": "SOHAIL AJAZ",
      "photoUrl": "https://lh3.googleusercontent.com/a/default-user=s64",
      "userId": "09832138505281235982"
     },
     "user_tz": -540
    },
    "id": "RJ_9bkRJ4TZZ",
    "outputId": "ddfb06f6-8043-4520-d1f1-df63c04bbbe5"
   },
   "outputs": [
    {
     "data": {
      "text/plain": [
       "0.7887600127658596"
      ]
     },
     "execution_count": 49,
     "metadata": {},
     "output_type": "execute_result"
    }
   ],
   "source": [
    "r2_score(y,predictions)"
   ]
  },
  {
   "cell_type": "code",
   "execution_count": 50,
   "metadata": {
    "colab": {
     "base_uri": "https://localhost:8080/",
     "height": 321
    },
    "executionInfo": {
     "elapsed": 480,
     "status": "ok",
     "timestamp": 1631587367056,
     "user": {
      "displayName": "SOHAIL AJAZ",
      "photoUrl": "https://lh3.googleusercontent.com/a/default-user=s64",
      "userId": "09832138505281235982"
     },
     "user_tz": -540
    },
    "id": "ec0h2EOpzksl",
    "outputId": "edfa2e47-607f-4249-e460-4853c7ebd891"
   },
   "outputs": [
    {
     "data": {
      "image/png": "[encoded data removed]",
      "text/plain": [
       "<Figure size 432x288 with 1 Axes>"
      ]
     },
     "metadata": {},
     "output_type": "display_data"
    }
   ],
   "source": [
    "\n",
    "sns.set_context('talk')\n",
    "sns.set_style('ticks')\n",
    "sns.set_palette('dark')\n",
    "\n",
    "ax = plt.axes()\n",
    "# we are going to use y_test, y_test_pred\n",
    "ax.scatter(y, predictions, alpha=.5)\n",
    "\n",
    "ax.set(xlabel='Ground truth', \n",
    "       ylabel='Predictions',\n",
    "       title='Ames, Iowa House Price Predictions vs Truth, using Linear Regression');"
   ]
  },
  {
   "cell_type": "markdown",
   "metadata": {
    "id": "zHHsqk7Cwe7d"
   },
   "source": [
    "##Tune Hyperparameters"
   ]
  },
  {
   "cell_type": "code",
   "execution_count": 33,
   "metadata": {
    "colab": {
     "base_uri": "https://localhost:8080/",
     "height": 164
    },
    "executionInfo": {
     "elapsed": 7,
     "status": "error",
     "timestamp": 1631613777807,
     "user": {
      "displayName": "SOHAIL AJAZ",
      "photoUrl": "https://lh3.googleusercontent.com/a/default-user=s64",
      "userId": "09832138505281235982"
     },
     "user_tz": -540
    },
    "id": "4WcNQPjRwjjD",
    "outputId": "57828e2a-eb6e-4ee1-e412-a7a3e9751258"
   },
   "outputs": [],
   "source": [
    "alphas = np.geomspace(1e-9, 1e0, num=10)"
   ]
  },
  {
   "cell_type": "code",
   "execution_count": null,
   "metadata": {},
   "outputs": [],
   "source": []
  }
 ],
 "metadata": {
  "colab": {
   "collapsed_sections": [
    "OtkQbtzdY1Vi",
    "J14GMEjoLPsv",
    "lE3znEfL_Wcs"
   ],
   "name": "car_dekho.ipynb",
   "provenance": []
  },
  "environment": {
   "name": "common-cpu.m79",
   "type": "gcloud",
   "uri": "gcr.io/deeplearning-platform-release/base-cpu:m79"
  },
  "kernelspec": {
   "display_name": "Python 3",
   "language": "python",
   "name": "python3"
  },
  "language_info": {
   "codemirror_mode": {
    "name": "ipython",
    "version": 3
   },
   "file_extension": ".py",
   "mimetype": "text/x-python",
   "name": "python",
   "nbconvert_exporter": "python",
   "pygments_lexer": "ipython3",
   "version": "3.7.10"
  }
 },
 "nbformat": 4,
 "nbformat_minor": 4
}
