{
 "cells": [
  {
   "cell_type": "markdown",
   "metadata": {
    "id": "vq_SXb7Ueh8j"
   },
   "source": [
    "#Objective\n",
    "The object of this effort is to analyze the delays in toronto_subway_data and find what questions can be answered from this data."
   ]
  },
  {
   "cell_type": "markdown",
   "metadata": {
    "id": "VkYGBdPjBpOa"
   },
   "source": [
    "### Set up authentication for google. This is required to pull data from bigquery"
   ]
  },
  {
   "cell_type": "code",
   "execution_count": 3,
   "metadata": {
    "executionInfo": {
     "elapsed": 17184,
     "status": "ok",
     "timestamp": 1631238762329,
     "user": {
      "displayName": "SOHAIL AJAZ",
      "photoUrl": "https://lh3.googleusercontent.com/a/default-user=s64",
      "userId": "09832138505281235982"
     },
     "user_tz": -540
    },
    "id": "PsT8yneiYlIj"
   },
   "outputs": [
    {
     "ename": "ModuleNotFoundError",
     "evalue": "No module named 'google'",
     "output_type": "error",
     "traceback": [
      "\u001b[0;31m------------------------------------------------------------\u001b[0m",
      "\u001b[0;31mModuleNotFoundError\u001b[0m        Traceback (most recent call last)",
      "\u001b[0;32m<ipython-input-3-1f759c1655bd>\u001b[0m in \u001b[0;36m<module>\u001b[0;34m\u001b[0m\n\u001b[0;32m----> 1\u001b[0;31m \u001b[0;32mfrom\u001b[0m \u001b[0mgoogle\u001b[0m\u001b[0;34m.\u001b[0m\u001b[0mcolab\u001b[0m \u001b[0;32mimport\u001b[0m \u001b[0mauth\u001b[0m\u001b[0;34m\u001b[0m\u001b[0;34m\u001b[0m\u001b[0m\n\u001b[0m\u001b[1;32m      2\u001b[0m \u001b[0mauth\u001b[0m\u001b[0;34m.\u001b[0m\u001b[0mauthenticate_user\u001b[0m\u001b[0;34m(\u001b[0m\u001b[0;34m)\u001b[0m\u001b[0;34m\u001b[0m\u001b[0;34m\u001b[0m\u001b[0m\n",
      "\u001b[0;31mModuleNotFoundError\u001b[0m: No module named 'google'"
     ]
    }
   ],
   "source": [
    "from google.colab import auth\n",
    "auth.authenticate_user()"
   ]
  },
  {
   "cell_type": "markdown",
   "metadata": {
    "id": "OtkQbtzdY1Vi"
   },
   "source": [
    "###Import necessary libraries"
   ]
  },
  {
   "cell_type": "code",
   "execution_count": 2,
   "metadata": {
    "executionInfo": {
     "elapsed": 973,
     "status": "ok",
     "timestamp": 1631238766191,
     "user": {
      "displayName": "SOHAIL AJAZ",
      "photoUrl": "https://lh3.googleusercontent.com/a/default-user=s64",
      "userId": "09832138505281235982"
     },
     "user_tz": -540
    },
    "id": "ydJr6bQPpBou"
   },
   "outputs": [],
   "source": [
    "import os\n",
    "import numpy as np\n",
    "import pandas as pd\n",
    "import seaborn as sns\n",
    "import matplotlib.pyplot as plt\n",
    "\n",
    "%matplotlib inline\n",
    "\n",
    "from google.colab import auth\n",
    "auth.authenticate_user()\n"
   ]
  },
  {
   "cell_type": "markdown",
   "metadata": {
    "id": "j2-0n98JY_vT"
   },
   "source": [
    "###Pull the dataframe from bigquery"
   ]
  },
  {
   "cell_type": "code",
   "execution_count": 10,
   "metadata": {
    "colab": {
     "base_uri": "https://localhost:8080/"
    },
    "executionInfo": {
     "elapsed": 16766,
     "status": "ok",
     "timestamp": 1631239733928,
     "user": {
      "displayName": "SOHAIL AJAZ",
      "photoUrl": "https://lh3.googleusercontent.com/a/default-user=s64",
      "userId": "09832138505281235982"
     },
     "user_tz": -540
    },
    "id": "uYl-No1yTlfi",
    "outputId": "a69b8da8-713c-41cd-f5d5-9e5dc680d666"
   },
   "outputs": [
    {
     "name": "stdout",
     "output_type": "stream",
     "text": [
      "Executing query with job ID: 0a557c5c-4bb5-40fc-b01d-6633cfdc820d\n",
      "Query executing: 1.01s\n",
      "Query complete after 1.85s\n"
     ]
    }
   ],
   "source": [
    "#Please change the query to pull appropriate data\n",
    "%%bigquery  df --project ml-notebooks-324808 --verbose\n",
    "select *\n",
    "from `toronto_subway.toronto_subway_delays`\n"
   ]
  },
  {
   "cell_type": "markdown",
   "metadata": {
    "id": "lE3znEfL_Wcs"
   },
   "source": [
    "#Exploratory data analysis\n"
   ]
  },
  {
   "cell_type": "code",
   "execution_count": 15,
   "metadata": {
    "colab": {
     "base_uri": "https://localhost:8080/"
    },
    "executionInfo": {
     "elapsed": 354,
     "status": "ok",
     "timestamp": 1631240185378,
     "user": {
      "displayName": "SOHAIL AJAZ",
      "photoUrl": "https://lh3.googleusercontent.com/a/default-user=s64",
      "userId": "09832138505281235982"
     },
     "user_tz": -540
    },
    "id": "aIitvIndaHOj",
    "outputId": "f8dddc35-b633-444c-efed-f08eaa3726e7"
   },
   "outputs": [
    {
     "name": "stdout",
     "output_type": "stream",
     "text": [
      "<class 'pandas.core.frame.DataFrame'>\n",
      "RangeIndex: 143917 entries, 0 to 143916\n",
      "Data columns (total 10 columns):\n",
      " #   Column     Non-Null Count   Dtype \n",
      "---  ------     --------------   ----- \n",
      " 0   Date       143917 non-null  object\n",
      " 1   Time       143917 non-null  object\n",
      " 2   Day        143917 non-null  object\n",
      " 3   Station    143917 non-null  object\n",
      " 4   Code       143916 non-null  object\n",
      " 5   Min_Delay  143917 non-null  int64 \n",
      " 6   Min_Gap    143917 non-null  int64 \n",
      " 7   Bound      111703 non-null  object\n",
      " 8   Line       143373 non-null  object\n",
      " 9   Vehicle    143917 non-null  int64 \n",
      "dtypes: int64(3), object(7)\n",
      "memory usage: 11.0+ MB\n"
     ]
    }
   ],
   "source": [
    "df.info()"
   ]
  },
  {
   "cell_type": "code",
   "execution_count": 16,
   "metadata": {
    "colab": {
     "base_uri": "https://localhost:8080/",
     "height": 143
    },
    "executionInfo": {
     "elapsed": 8,
     "status": "ok",
     "timestamp": 1631240185771,
     "user": {
      "displayName": "SOHAIL AJAZ",
      "photoUrl": "https://lh3.googleusercontent.com/a/default-user=s64",
      "userId": "09832138505281235982"
     },
     "user_tz": -540
    },
    "id": "ogUSAYNFaJ5i",
    "outputId": "0ed8ac52-9571-4d5b-b0c5-1c7ce2914d4f"
   },
   "outputs": [
    {
     "data": {
      "text/html": [
       "<div>\n",
       "<style scoped>\n",
       "    .dataframe tbody tr th:only-of-type {\n",
       "        vertical-align: middle;\n",
       "    }\n",
       "\n",
       "    .dataframe tbody tr th {\n",
       "        vertical-align: top;\n",
       "    }\n",
       "\n",
       "    .dataframe thead th {\n",
       "        text-align: right;\n",
       "    }\n",
       "</style>\n",
       "<table border=\"1\" class=\"dataframe\">\n",
       "  <thead>\n",
       "    <tr style=\"text-align: right;\">\n",
       "      <th></th>\n",
       "      <th>count</th>\n",
       "      <th>mean</th>\n",
       "      <th>std</th>\n",
       "      <th>min</th>\n",
       "      <th>25%</th>\n",
       "      <th>50%</th>\n",
       "      <th>75%</th>\n",
       "      <th>max</th>\n",
       "    </tr>\n",
       "  </thead>\n",
       "  <tbody>\n",
       "    <tr>\n",
       "      <th>Min_Delay</th>\n",
       "      <td>143917.0</td>\n",
       "      <td>2.197802</td>\n",
       "      <td>8.833085</td>\n",
       "      <td>0.0</td>\n",
       "      <td>0.0</td>\n",
       "      <td>0.0</td>\n",
       "      <td>3.0</td>\n",
       "      <td>999.0</td>\n",
       "    </tr>\n",
       "    <tr>\n",
       "      <th>Min_Gap</th>\n",
       "      <td>143917.0</td>\n",
       "      <td>3.254668</td>\n",
       "      <td>9.117866</td>\n",
       "      <td>0.0</td>\n",
       "      <td>0.0</td>\n",
       "      <td>0.0</td>\n",
       "      <td>6.0</td>\n",
       "      <td>999.0</td>\n",
       "    </tr>\n",
       "    <tr>\n",
       "      <th>Vehicle</th>\n",
       "      <td>143917.0</td>\n",
       "      <td>3938.319663</td>\n",
       "      <td>2447.175793</td>\n",
       "      <td>0.0</td>\n",
       "      <td>0.0</td>\n",
       "      <td>5211.0</td>\n",
       "      <td>5596.0</td>\n",
       "      <td>72537.0</td>\n",
       "    </tr>\n",
       "  </tbody>\n",
       "</table>\n",
       "</div>"
      ],
      "text/plain": [
       "              count         mean          std  ...     50%     75%      max\n",
       "Min_Delay  143917.0     2.197802     8.833085  ...     0.0     3.0    999.0\n",
       "Min_Gap    143917.0     3.254668     9.117866  ...     0.0     6.0    999.0\n",
       "Vehicle    143917.0  3938.319663  2447.175793  ...  5211.0  5596.0  72537.0\n",
       "\n",
       "[3 rows x 8 columns]"
      ]
     },
     "execution_count": 16,
     "metadata": {},
     "output_type": "execute_result"
    }
   ],
   "source": [
    "df.describe().T"
   ]
  },
  {
   "cell_type": "code",
   "execution_count": 31,
   "metadata": {
    "executionInfo": {
     "elapsed": 372,
     "status": "ok",
     "timestamp": 1631242019676,
     "user": {
      "displayName": "SOHAIL AJAZ",
      "photoUrl": "https://lh3.googleusercontent.com/a/default-user=s64",
      "userId": "09832138505281235982"
     },
     "user_tz": -540
    },
    "id": "78auSf9Rd6va"
   },
   "outputs": [],
   "source": [
    "#Lets copy the data first\n",
    "data = df.copy()\n",
    "data = data.drop(['Vehicle'], axis=1)"
   ]
  },
  {
   "cell_type": "markdown",
   "metadata": {
    "id": "ZWGv4gEmfZCk"
   },
   "source": [
    "### Data Cleanup"
   ]
  },
  {
   "cell_type": "code",
   "execution_count": 33,
   "metadata": {
    "colab": {
     "base_uri": "https://localhost:8080/",
     "height": 423
    },
    "executionInfo": {
     "elapsed": 6,
     "status": "ok",
     "timestamp": 1631242113302,
     "user": {
      "displayName": "SOHAIL AJAZ",
      "photoUrl": "https://lh3.googleusercontent.com/a/default-user=s64",
      "userId": "09832138505281235982"
     },
     "user_tz": -540
    },
    "id": "pjJcbXv9eazp",
    "outputId": "8aa02624-6a78-45bd-c0a4-8281ddcaa818"
   },
   "outputs": [
    {
     "data": {
      "text/html": [
       "<div>\n",
       "<style scoped>\n",
       "    .dataframe tbody tr th:only-of-type {\n",
       "        vertical-align: middle;\n",
       "    }\n",
       "\n",
       "    .dataframe tbody tr th {\n",
       "        vertical-align: top;\n",
       "    }\n",
       "\n",
       "    .dataframe thead th {\n",
       "        text-align: right;\n",
       "    }\n",
       "</style>\n",
       "<table border=\"1\" class=\"dataframe\">\n",
       "  <thead>\n",
       "    <tr style=\"text-align: right;\">\n",
       "      <th></th>\n",
       "      <th>Date</th>\n",
       "      <th>Time</th>\n",
       "      <th>Day</th>\n",
       "      <th>Station</th>\n",
       "      <th>Code</th>\n",
       "      <th>Min_Delay</th>\n",
       "      <th>Min_Gap</th>\n",
       "      <th>Bound</th>\n",
       "      <th>Line</th>\n",
       "    </tr>\n",
       "  </thead>\n",
       "  <tbody>\n",
       "    <tr>\n",
       "      <th>0</th>\n",
       "      <td>2014-01-01</td>\n",
       "      <td>02:40</td>\n",
       "      <td>Wednesday</td>\n",
       "      <td>SHEPPARD STATION</td>\n",
       "      <td>MUNCA</td>\n",
       "      <td>0</td>\n",
       "      <td>0</td>\n",
       "      <td>None</td>\n",
       "      <td>YU</td>\n",
       "    </tr>\n",
       "    <tr>\n",
       "      <th>1</th>\n",
       "      <td>2014-01-01</td>\n",
       "      <td>07:31</td>\n",
       "      <td>Wednesday</td>\n",
       "      <td>NORTH YORK CTR STATION</td>\n",
       "      <td>MUNCA</td>\n",
       "      <td>0</td>\n",
       "      <td>0</td>\n",
       "      <td>None</td>\n",
       "      <td>YU</td>\n",
       "    </tr>\n",
       "    <tr>\n",
       "      <th>2</th>\n",
       "      <td>2014-01-01</td>\n",
       "      <td>07:32</td>\n",
       "      <td>Wednesday</td>\n",
       "      <td>SHEPPARD STATION</td>\n",
       "      <td>MUNCA</td>\n",
       "      <td>0</td>\n",
       "      <td>0</td>\n",
       "      <td>None</td>\n",
       "      <td>YU</td>\n",
       "    </tr>\n",
       "    <tr>\n",
       "      <th>3</th>\n",
       "      <td>2014-01-01</td>\n",
       "      <td>07:34</td>\n",
       "      <td>Wednesday</td>\n",
       "      <td>QUEEN STATION</td>\n",
       "      <td>MUNCA</td>\n",
       "      <td>0</td>\n",
       "      <td>0</td>\n",
       "      <td>None</td>\n",
       "      <td>YU</td>\n",
       "    </tr>\n",
       "    <tr>\n",
       "      <th>4</th>\n",
       "      <td>2014-01-01</td>\n",
       "      <td>07:34</td>\n",
       "      <td>Wednesday</td>\n",
       "      <td>RUNNYMEDE STATION</td>\n",
       "      <td>MUNCA</td>\n",
       "      <td>0</td>\n",
       "      <td>0</td>\n",
       "      <td>None</td>\n",
       "      <td>BD</td>\n",
       "    </tr>\n",
       "    <tr>\n",
       "      <th>...</th>\n",
       "      <td>...</td>\n",
       "      <td>...</td>\n",
       "      <td>...</td>\n",
       "      <td>...</td>\n",
       "      <td>...</td>\n",
       "      <td>...</td>\n",
       "      <td>...</td>\n",
       "      <td>...</td>\n",
       "      <td>...</td>\n",
       "    </tr>\n",
       "    <tr>\n",
       "      <th>143170</th>\n",
       "      <td>2019-02-14</td>\n",
       "      <td>14:11</td>\n",
       "      <td>Thursday</td>\n",
       "      <td>MCCOWAN STATION</td>\n",
       "      <td>PRTST</td>\n",
       "      <td>30</td>\n",
       "      <td>35</td>\n",
       "      <td>None</td>\n",
       "      <td>SRT</td>\n",
       "    </tr>\n",
       "    <tr>\n",
       "      <th>143647</th>\n",
       "      <td>2019-09-11</td>\n",
       "      <td>01:02</td>\n",
       "      <td>Wednesday</td>\n",
       "      <td>YORK MILLS STATION</td>\n",
       "      <td>PUSSW</td>\n",
       "      <td>68</td>\n",
       "      <td>73</td>\n",
       "      <td>None</td>\n",
       "      <td>YU</td>\n",
       "    </tr>\n",
       "    <tr>\n",
       "      <th>143671</th>\n",
       "      <td>2015-06-08</td>\n",
       "      <td>06:19</td>\n",
       "      <td>Monday</td>\n",
       "      <td>BLOOR DANFORTH SUBWAY</td>\n",
       "      <td>PUSRA</td>\n",
       "      <td>76</td>\n",
       "      <td>80</td>\n",
       "      <td>None</td>\n",
       "      <td>BD</td>\n",
       "    </tr>\n",
       "    <tr>\n",
       "      <th>143672</th>\n",
       "      <td>2015-06-08</td>\n",
       "      <td>06:19</td>\n",
       "      <td>Monday</td>\n",
       "      <td>YONGE UNIVERSITY LINE</td>\n",
       "      <td>PUSRA</td>\n",
       "      <td>76</td>\n",
       "      <td>80</td>\n",
       "      <td>None</td>\n",
       "      <td>YU</td>\n",
       "    </tr>\n",
       "    <tr>\n",
       "      <th>143728</th>\n",
       "      <td>2018-11-16</td>\n",
       "      <td>05:45</td>\n",
       "      <td>Friday</td>\n",
       "      <td>KENNEDY SRT STATION</td>\n",
       "      <td>PRS</td>\n",
       "      <td>86</td>\n",
       "      <td>91</td>\n",
       "      <td>None</td>\n",
       "      <td>SRT</td>\n",
       "    </tr>\n",
       "  </tbody>\n",
       "</table>\n",
       "<p>32214 rows × 9 columns</p>\n",
       "</div>"
      ],
      "text/plain": [
       "              Date   Time        Day  ... Min_Gap Bound  Line\n",
       "0       2014-01-01  02:40  Wednesday  ...       0  None    YU\n",
       "1       2014-01-01  07:31  Wednesday  ...       0  None    YU\n",
       "2       2014-01-01  07:32  Wednesday  ...       0  None    YU\n",
       "3       2014-01-01  07:34  Wednesday  ...       0  None    YU\n",
       "4       2014-01-01  07:34  Wednesday  ...       0  None    BD\n",
       "...            ...    ...        ...  ...     ...   ...   ...\n",
       "143170  2019-02-14  14:11   Thursday  ...      35  None   SRT\n",
       "143647  2019-09-11  01:02  Wednesday  ...      73  None    YU\n",
       "143671  2015-06-08  06:19     Monday  ...      80  None    BD\n",
       "143672  2015-06-08  06:19     Monday  ...      80  None    YU\n",
       "143728  2018-11-16  05:45     Friday  ...      91  None   SRT\n",
       "\n",
       "[32214 rows x 9 columns]"
      ]
     },
     "execution_count": 33,
     "metadata": {},
     "output_type": "execute_result"
    }
   ],
   "source": [
    "#Since we are intered in delays, any delay of 0, should not matter in this context\n",
    "delays = data[data.Min_Delay>0]\n",
    "non_delays = data[data.Min_Delay<=0]\n",
    "data.shape\n",
    "data.isnull().sum()\n",
    "\n",
    "# Since bound and line have null values, lets first look at them closely\n",
    "\n",
    "data[data.Bound.isnull()]"
   ]
  },
  {
   "cell_type": "markdown",
   "metadata": {
    "id": "wugNryw-h9Lr"
   },
   "source": [
    "Possible question could be the relationship between the \n",
    "- \"Bound\" and \"Min_Delay\"\n",
    "- \"Time frame\" and \"Min_Delay\"\n",
    "- \"Day\" and \"Min_Delay\"\n",
    "- \"Station\" and \"Min_Delay\"\n",
    "\n"
   ]
  },
  {
   "cell_type": "code",
   "execution_count": 39,
   "metadata": {
    "colab": {
     "base_uri": "https://localhost:8080/",
     "height": 283
    },
    "executionInfo": {
     "elapsed": 460,
     "status": "ok",
     "timestamp": 1631242283737,
     "user": {
      "displayName": "SOHAIL AJAZ",
      "photoUrl": "https://lh3.googleusercontent.com/a/default-user=s64",
      "userId": "09832138505281235982"
     },
     "user_tz": -540
    },
    "id": "PPfvaGnxlDor",
    "outputId": "e812ff88-906d-4e8c-c45f-23f7fb64ca34"
   },
   "outputs": [
    {
     "data": {
      "text/plain": [
       "<matplotlib.axes._subplots.AxesSubplot at 0x7f8c6ebd0f10>"
      ]
     },
     "execution_count": 39,
     "metadata": {},
     "output_type": "execute_result"
    },
    {
     "data": {
      "image/png": "[encoded data removed]",
      "text/plain": [
       "<Figure size 432x288 with 1 Axes>"
      ]
     },
     "metadata": {
      "needs_background": "light"
     },
     "output_type": "display_data"
    }
   ],
   "source": [
    "#delays.Line.hist()\n",
    "delays.Bound.hist()"
   ]
  },
  {
   "cell_type": "code",
   "execution_count": 27,
   "metadata": {
    "colab": {
     "base_uri": "https://localhost:8080/",
     "height": 351
    },
    "executionInfo": {
     "elapsed": 734,
     "status": "ok",
     "timestamp": 1631241748627,
     "user": {
      "displayName": "SOHAIL AJAZ",
      "photoUrl": "https://lh3.googleusercontent.com/a/default-user=s64",
      "userId": "09832138505281235982"
     },
     "user_tz": -540
    },
    "id": "uD8jSrFxlJLC",
    "outputId": "d253dc3d-dc7c-4769-828a-92bd58b2b21a"
   },
   "outputs": [
    {
     "name": "stderr",
     "output_type": "stream",
     "text": [
      "/usr/local/lib/python3.7/dist-packages/seaborn/_decorators.py:43: FutureWarning: Pass the following variables as keyword args: x, y. From version 0.12, the only valid positional argument will be `data`, and passing other arguments without an explicit keyword will result in an error or misinterpretation.\n",
      "  FutureWarning\n"
     ]
    },
    {
     "data": {
      "text/plain": [
       "<matplotlib.axes._subplots.AxesSubplot at 0x7f8c64a234d0>"
      ]
     },
     "execution_count": 27,
     "metadata": {},
     "output_type": "execute_result"
    },
    {
     "data": {
      "image/png": "[encoded data removed]",
      "text/plain": [
       "<Figure size 432x288 with 1 Axes>"
      ]
     },
     "metadata": {
      "needs_background": "light"
     },
     "output_type": "display_data"
    }
   ],
   "source": [
    "sns.scatterplot(data.Bound,data.Min_Delay)"
   ]
  },
  {
   "cell_type": "code",
   "execution_count": 30,
   "metadata": {
    "colab": {
     "base_uri": "https://localhost:8080/",
     "height": 567
    },
    "executionInfo": {
     "elapsed": 34178,
     "status": "ok",
     "timestamp": 1631241906466,
     "user": {
      "displayName": "SOHAIL AJAZ",
      "photoUrl": "https://lh3.googleusercontent.com/a/default-user=s64",
      "userId": "09832138505281235982"
     },
     "user_tz": -540
    },
    "id": "TPSq9-YqlbuR",
    "outputId": "b049eb50-db38-419a-f3c4-e42c4aaa3bfd"
   },
   "outputs": [
    {
     "data": {
      "text/plain": [
       "<seaborn.axisgrid.PairGrid at 0x7f8c63d2fc10>"
      ]
     },
     "execution_count": 30,
     "metadata": {},
     "output_type": "execute_result"
    },
    {
     "data": {
      "image/png": "[encoded data removed]",
      "text/plain": [
       "<Figure size 540x540 with 12 Axes>"
      ]
     },
     "metadata": {
      "needs_background": "light"
     },
     "output_type": "display_data"
    }
   ],
   "source": [
    "sns.pairplot(data)"
   ]
  },
  {
   "cell_type": "code",
   "execution_count": null,
   "metadata": {
    "id": "HTmxrgTiltgZ"
   },
   "outputs": [],
   "source": []
  }
 ],
 "metadata": {
  "colab": {
   "authorship_tag": "ABX9TyODHbiPjsEFG5BXslG1UAq0",
   "collapsed_sections": [],
   "name": "toronto_subway_delays_eda.ipynb",
   "provenance": []
  },
  "kernelspec": {
   "display_name": "Python 3",
   "language": "python",
   "name": "python3"
  },
  "language_info": {
   "codemirror_mode": {
    "name": "ipython",
    "version": 3
   },
   "file_extension": ".py",
   "mimetype": "text/x-python",
   "name": "python",
   "nbconvert_exporter": "python",
   "pygments_lexer": "ipython3",
   "version": "3.8.8"
  }
 },
 "nbformat": 4,
 "nbformat_minor": 1
}
